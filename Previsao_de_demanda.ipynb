{
  "nbformat": 4,
  "nbformat_minor": 0,
  "metadata": {
    "colab": {
      "provenance": [],
      "mount_file_id": "1P3tl_CnSD_1nOFdiLCynI900cqBL5uZz",
      "authorship_tag": "ABX9TyM3kzpKugN6Tv8Yjz4yPOox"
    },
    "kernelspec": {
      "name": "python3",
      "display_name": "Python 3"
    },
    "language_info": {
      "name": "python"
    }
  },
  "cells": [
    {
      "cell_type": "markdown",
      "source": [
        "# **Desafio Data Analitycs**\n",
        "\n",
        "\n",
        "O desafio é o seguinte: \n",
        "\n",
        "Previsão de demanda é uma projeção realizada com o intuito de prever o potencial de vendas de um ou mais produtos em um cenário futuro. \n",
        "\n",
        "Com base em dados e informações, numéricas e intencionais, o objetivo da previsão é aproximar ao máximo a perspectiva da realidade. Embora não seja possível determinar as ações do futuro, a estimativa permite guiar a tomada de decisão e elaborar um planejamento mais estratégico, voltado para as possibilidades reais do negócio.\n",
        "\n",
        "Nos diversos setores, a previsão de demanda serve de amparo para nortear e orientar as ações mais importantes.\n",
        "\n",
        "Nós, da Frexco, trabalhamos com produtos perecíveis e muitos deles possuem uma data de validade curta. Acertar na previsão de demanda é essencial para evitarmos o desperdício de alimentos, além de também ser importante garantir que tenhamos o produto disponível no estoque para venda.\n",
        "\n",
        "Tendo isso em mente, estruture um script no Python que calcule a previsão de demanda para os próximos 5 dias do item, baseando-se no histórico presente na base de dados em anexo.\n",
        "\n",
        "Obs: O modelo de previsão pode ser o que você julgue ser o melhor, mas atenção aos detalhes de variação nas vendas!"
      ],
      "metadata": {
        "id": "BaXEJa3F6_p8"
      }
    },
    {
      "cell_type": "code",
      "source": [
        "# Utilizei o google colab\n",
        "from google.colab import drive\n",
        "drive.mount('/content/drive')"
      ],
      "metadata": {
        "colab": {
          "base_uri": "https://localhost:8080/"
        },
        "id": "-zP7Q16E6nrY",
        "outputId": "abf4bd00-1d4b-4345-bcc0-1bf939b96a52"
      },
      "execution_count": 86,
      "outputs": [
        {
          "output_type": "stream",
          "name": "stdout",
          "text": [
            "Drive already mounted at /content/drive; to attempt to forcibly remount, call drive.mount(\"/content/drive\", force_remount=True).\n"
          ]
        }
      ]
    },
    {
      "cell_type": "code",
      "source": [
        "# Importar bibliotecas e o arquivo csv direto da nuvem no Google Drive\n",
        "import pandas as pd\n",
        "series = pd.read_csv('/content/drive/MyDrive/FREXCO_desafio/Dados.csv', header=0, index_col=0, parse_dates=True, dayfirst=True)"
      ],
      "metadata": {
        "id": "tcTb3LBM8Q8G"
      },
      "execution_count": 137,
      "outputs": []
    },
    {
      "cell_type": "code",
      "source": [
        "import numpy as np\n",
        "import matplotlib.pyplot as plt\n",
        "from statsmodels.tsa.arima_model import ARIMA"
      ],
      "metadata": {
        "id": "PZkN1ozPDCdI"
      },
      "execution_count": 138,
      "outputs": []
    },
    {
      "cell_type": "code",
      "source": [
        "# Criar dataframe\n",
        "vendas_df = pd.DataFrame(series)"
      ],
      "metadata": {
        "id": "VQozifVfY6yq"
      },
      "execution_count": 139,
      "outputs": []
    },
    {
      "cell_type": "code",
      "source": [
        "# Visualizar o dataframe\n",
        "print(vendas_df)"
      ],
      "metadata": {
        "colab": {
          "base_uri": "https://localhost:8080/"
        },
        "id": "6cfgXBALe56P",
        "outputId": "d5020f2c-0447-49df-991f-4e483f5ba613"
      },
      "execution_count": 140,
      "outputs": [
        {
          "output_type": "stream",
          "name": "stdout",
          "text": [
            "            Vendas\n",
            "Data              \n",
            "2022-12-06     870\n",
            "2022-12-07     868\n",
            "2022-12-08    1189\n",
            "2022-12-09     742\n",
            "2022-12-10     317\n",
            "2022-12-11     685\n",
            "2022-12-12    1366\n",
            "2022-12-13    1213\n",
            "2022-12-14    1055\n",
            "2022-12-15    1343\n",
            "2022-12-16     832\n",
            "2022-12-17     240\n",
            "2022-12-18     235\n",
            "2022-12-19    1050\n",
            "2022-12-20     711\n",
            "2022-12-21     745\n",
            "2022-12-22    1009\n",
            "2022-12-23      18\n",
            "2022-12-24      40\n",
            "2022-12-25      67\n",
            "2022-12-26     821\n",
            "2022-12-27     572\n",
            "2022-12-28     429\n",
            "2022-12-29     638\n",
            "2022-12-30     106\n",
            "2022-12-31      54\n",
            "2023-01-01     144\n",
            "2023-01-02     814\n",
            "2023-01-03     679\n",
            "2023-01-04     712\n",
            "2023-01-05    1229\n",
            "2023-01-06     821\n",
            "2023-01-07     319\n",
            "2023-01-08     317\n",
            "2023-01-09    1317\n",
            "2023-01-10     807\n",
            "2023-01-11     923\n",
            "2023-01-12    1265\n",
            "2023-01-13     892\n",
            "2023-01-14     289\n",
            "2023-01-15     566\n",
            "2023-01-16    1692\n",
            "2023-01-17    1097\n",
            "2023-01-18    1302\n",
            "2023-01-19    1405\n",
            "2023-01-20     945\n"
          ]
        }
      ]
    },
    {
      "cell_type": "code",
      "source": [
        "# Visualização gráfica do dataframe com as vendas entre os dias 06-12-2022 e 20-01-2023\n",
        "vendas_df.plot();"
      ],
      "metadata": {
        "colab": {
          "base_uri": "https://localhost:8080/",
          "height": 315
        },
        "id": "5UWCUDDXEJKw",
        "outputId": "ab14bffe-c1ad-449d-9d46-8a642f018609"
      },
      "execution_count": 141,
      "outputs": [
        {
          "output_type": "display_data",
          "data": {
            "text/plain": [
              "<Figure size 432x288 with 1 Axes>"
            ],
            "image/png": "[encoded data removed]"
          },
          "metadata": {
            "needs_background": "light"
          }
        }
      ]
    },
    {
      "cell_type": "code",
      "source": [
        "# Treinar modelo ARIMA\n",
        "model = ARIMA(vendas_df[\"Vendas\"], order=(2, 1, 2))\n",
        "model_fit = model.fit(disp=0)"
      ],
      "metadata": {
        "id": "9WN0WdA9bIM_"
      },
      "execution_count": 142,
      "outputs": []
    },
    {
      "cell_type": "code",
      "source": [
        "# Fazer previsão de demanda para os próximos 5 dias\n",
        "forecasting = model_fit.forecast(steps=5)[0]\n",
        "print(forecasting)"
      ],
      "metadata": {
        "colab": {
          "base_uri": "https://localhost:8080/"
        },
        "id": "gdu7uNrP_qeM",
        "outputId": "e6fb2729-5ae6-4fe9-f6d5-70cc57a89012"
      },
      "execution_count": 152,
      "outputs": [
        {
          "output_type": "stream",
          "name": "stdout",
          "text": [
            "[ 969.86132533 1072.80039812 1029.69074976 1066.20657695 1050.32574403]\n"
          ]
        }
      ]
    },
    {
      "cell_type": "code",
      "source": [
        "# Visualização gráfica da previsão para os 5 dias\n",
        "plt.plot(forecasting);"
      ],
      "metadata": {
        "colab": {
          "base_uri": "https://localhost:8080/",
          "height": 265
        },
        "id": "MA0LlvA3EGxI",
        "outputId": "7551c59d-c6e5-4d87-f335-3a1c481a9d60"
      },
      "execution_count": 153,
      "outputs": [
        {
          "output_type": "display_data",
          "data": {
            "text/plain": [
              "<Figure size 432x288 with 1 Axes>"
            ],
            "image/png": "[encoded data removed]"
          },
          "metadata": {
            "needs_background": "light"
          }
        }
      ]
    }
  ]
}